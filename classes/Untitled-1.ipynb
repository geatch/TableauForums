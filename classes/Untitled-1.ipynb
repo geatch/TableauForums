{
 "cells": [
  {
   "cell_type": "code",
   "execution_count": 1,
   "metadata": {},
   "outputs": [],
   "source": [
    "execfile('/home/chris/forums_scraper/classes/scraper.py')"
   ]
  },
  {
   "cell_type": "code",
   "execution_count": 2,
   "metadata": {},
   "outputs": [],
   "source": [
    "fs = ForumsScraper()"
   ]
  },
  {
   "cell_type": "code",
   "execution_count": 3,
   "metadata": {},
   "outputs": [],
   "source": [
    "fs.get_top150()"
   ]
  },
  {
   "cell_type": "code",
   "execution_count": 4,
   "metadata": {},
   "outputs": [
    {
     "data": {
      "text/plain": [
       "[('https://community.tableau.com/s/profile/0054T000001NuFj', 'Others'),\n",
       " ('https://community.tableau.com/s/profile/0054T000001Namx', 'Others'),\n",
       " ('https://community.tableau.com/s/profile/0054T000001NiRN', 'Others')]"
      ]
     },
     "execution_count": 4,
     "metadata": {},
     "output_type": "execute_result"
    }
   ],
   "source": [
    "fs.profile_list"
   ]
  },
  {
   "cell_type": "code",
   "execution_count": 5,
   "metadata": {},
   "outputs": [
    {
     "name": "stdout",
     "output_type": "stream",
     "text": [
      "Retrieving all selected profiles\n"
     ]
    }
   ],
   "source": [
    "profiles = []\n",
    "print(\"Retrieving all selected profiles\")\n",
    "for profile_url, profile_type in fs.profile_list[0:5]:\n",
    "    prof_dict = fs.get_profile(profile_url, profile_type)\n",
    "    profiles.append(prof_dict)"
   ]
  },
  {
   "cell_type": "code",
   "execution_count": 6,
   "metadata": {},
   "outputs": [
    {
     "name": "stdout",
     "output_type": "stream",
     "text": [
      "Converting data to DataFrame\n"
     ]
    },
    {
     "ename": "AttributeError",
     "evalue": "'Series' object has no attribute 'date'",
     "output_type": "error",
     "traceback": [
      "\u001b[0;31m---------------------------------------------------------------------------\u001b[0m",
      "\u001b[0;31mAttributeError\u001b[0m                            Traceback (most recent call last)",
      "\u001b[0;32m/tmp/ipykernel_117143/2099732354.py\u001b[0m in \u001b[0;36m?\u001b[0;34m()\u001b[0m\n\u001b[1;32m      4\u001b[0m \u001b[0mdf\u001b[0m \u001b[0;34m=\u001b[0m \u001b[0mpd\u001b[0m\u001b[0;34m.\u001b[0m\u001b[0mDataFrame\u001b[0m\u001b[0;34m(\u001b[0m\u001b[0mprofiles\u001b[0m\u001b[0;34m)\u001b[0m\u001b[0;34m\u001b[0m\u001b[0;34m\u001b[0m\u001b[0m\n\u001b[1;32m      5\u001b[0m \u001b[0;31m# Replace Johan DeGroots ID\u001b[0m\u001b[0;34m\u001b[0m\u001b[0;34m\u001b[0m\u001b[0m\n\u001b[1;32m      6\u001b[0m \u001b[0mdf\u001b[0m\u001b[0;34m[\u001b[0m\u001b[0;34m\"id\"\u001b[0m\u001b[0;34m]\u001b[0m \u001b[0;34m=\u001b[0m \u001b[0mdf\u001b[0m\u001b[0;34m[\u001b[0m\u001b[0;34m\"id\"\u001b[0m\u001b[0;34m]\u001b[0m\u001b[0;34m.\u001b[0m\u001b[0mreplace\u001b[0m\u001b[0;34m(\u001b[0m\u001b[0;34m\"0054T000001NkSe\"\u001b[0m\u001b[0;34m,\u001b[0m\u001b[0;34m\"XX54T000001NkSe\"\u001b[0m\u001b[0;34m)\u001b[0m\u001b[0;34m\u001b[0m\u001b[0;34m\u001b[0m\u001b[0m\n\u001b[1;32m      7\u001b[0m \u001b[0mdf\u001b[0m\u001b[0;34m[\u001b[0m\u001b[0;34m\"snapshot\"\u001b[0m\u001b[0;34m]\u001b[0m \u001b[0;34m=\u001b[0m \u001b[0mdatetime\u001b[0m\u001b[0;34m.\u001b[0m\u001b[0mdatetime\u001b[0m\u001b[0;34m.\u001b[0m\u001b[0mnow\u001b[0m\u001b[0;34m(\u001b[0m\u001b[0;34m)\u001b[0m\u001b[0;34m.\u001b[0m\u001b[0mdate\u001b[0m\u001b[0;34m(\u001b[0m\u001b[0;34m)\u001b[0m\u001b[0;34m\u001b[0m\u001b[0;34m\u001b[0m\u001b[0m\n\u001b[0;32m----> 8\u001b[0;31m \u001b[0mdf\u001b[0m\u001b[0;34m[\u001b[0m\u001b[0;34m\"snapshot\"\u001b[0m\u001b[0;34m]\u001b[0m \u001b[0;34m=\u001b[0m \u001b[0mpd\u001b[0m\u001b[0;34m.\u001b[0m\u001b[0mto_datetime\u001b[0m\u001b[0;34m(\u001b[0m\u001b[0mdf\u001b[0m\u001b[0;34m[\u001b[0m\u001b[0;34m\"snapshot\"\u001b[0m\u001b[0;34m]\u001b[0m\u001b[0;34m)\u001b[0m\u001b[0;34m.\u001b[0m\u001b[0mdate\u001b[0m\u001b[0;34m(\u001b[0m\u001b[0;34m)\u001b[0m\u001b[0;34m\u001b[0m\u001b[0;34m\u001b[0m\u001b[0m\n\u001b[0m",
      "\u001b[0;32m~/environments/tableau/lib/python3.12/site-packages/pandas/core/generic.py\u001b[0m in \u001b[0;36m?\u001b[0;34m(self, name)\u001b[0m\n\u001b[1;32m   6295\u001b[0m             \u001b[0;32mand\u001b[0m \u001b[0mname\u001b[0m \u001b[0;32mnot\u001b[0m \u001b[0;32min\u001b[0m \u001b[0mself\u001b[0m\u001b[0;34m.\u001b[0m\u001b[0m_accessors\u001b[0m\u001b[0;34m\u001b[0m\u001b[0;34m\u001b[0m\u001b[0m\n\u001b[1;32m   6296\u001b[0m             \u001b[0;32mand\u001b[0m \u001b[0mself\u001b[0m\u001b[0;34m.\u001b[0m\u001b[0m_info_axis\u001b[0m\u001b[0;34m.\u001b[0m\u001b[0m_can_hold_identifiers_and_holds_name\u001b[0m\u001b[0;34m(\u001b[0m\u001b[0mname\u001b[0m\u001b[0;34m)\u001b[0m\u001b[0;34m\u001b[0m\u001b[0;34m\u001b[0m\u001b[0m\n\u001b[1;32m   6297\u001b[0m         \u001b[0;34m)\u001b[0m\u001b[0;34m:\u001b[0m\u001b[0;34m\u001b[0m\u001b[0;34m\u001b[0m\u001b[0m\n\u001b[1;32m   6298\u001b[0m             \u001b[0;32mreturn\u001b[0m \u001b[0mself\u001b[0m\u001b[0;34m[\u001b[0m\u001b[0mname\u001b[0m\u001b[0;34m]\u001b[0m\u001b[0;34m\u001b[0m\u001b[0;34m\u001b[0m\u001b[0m\n\u001b[0;32m-> 6299\u001b[0;31m         \u001b[0;32mreturn\u001b[0m \u001b[0mobject\u001b[0m\u001b[0;34m.\u001b[0m\u001b[0m__getattribute__\u001b[0m\u001b[0;34m(\u001b[0m\u001b[0mself\u001b[0m\u001b[0;34m,\u001b[0m \u001b[0mname\u001b[0m\u001b[0;34m)\u001b[0m\u001b[0;34m\u001b[0m\u001b[0;34m\u001b[0m\u001b[0m\n\u001b[0m",
      "\u001b[0;31mAttributeError\u001b[0m: 'Series' object has no attribute 'date'"
     ]
    }
   ],
   "source": [
    "import datetime\n",
    "\n",
    "print(\"Converting data to DataFrame\")\n",
    "df = pd.DataFrame(profiles)\n",
    "# Replace Johan DeGroots ID\n",
    "df[\"id\"] = df[\"id\"].replace(\"0054T000001NkSe\",\"XX54T000001NkSe\")\n",
    "df[\"snapshot\"] = datetime.datetime.now().date()\n",
    "df[\"snapshot\"] = pd.to_datetime(df[\"snapshot\"]).date()"
   ]
  },
  {
   "cell_type": "code",
   "execution_count": 9,
   "metadata": {},
   "outputs": [
    {
     "data": {
      "text/plain": [
       "datetime.date(2025, 1, 19)"
      ]
     },
     "execution_count": 9,
     "metadata": {},
     "output_type": "execute_result"
    }
   ],
   "source": [
    "datetime.datetime.now().date()"
   ]
  },
  {
   "cell_type": "code",
   "execution_count": 10,
   "metadata": {},
   "outputs": [
    {
     "name": "stdout",
     "output_type": "stream",
     "text": [
      "Converting data to DataFrame\n"
     ]
    }
   ],
   "source": [
    "print(\"Converting data to DataFrame\")\n",
    "df = pd.DataFrame(profiles)\n",
    "# Replace Johan DeGroots ID\n",
    "df[\"id\"] = df[\"id\"].replace(\"0054T000001NkSe\",\"XX54T000001NkSe\")\n",
    "df[\"snapshot\"] = datetime.datetime.now().date()"
   ]
  },
  {
   "cell_type": "code",
   "execution_count": 11,
   "metadata": {},
   "outputs": [
    {
     "data": {
      "text/html": [
       "<div>\n",
       "<style scoped>\n",
       "    .dataframe tbody tr th:only-of-type {\n",
       "        vertical-align: middle;\n",
       "    }\n",
       "\n",
       "    .dataframe tbody tr th {\n",
       "        vertical-align: top;\n",
       "    }\n",
       "\n",
       "    .dataframe thead th {\n",
       "        text-align: right;\n",
       "    }\n",
       "</style>\n",
       "<table border=\"1\" class=\"dataframe\">\n",
       "  <thead>\n",
       "    <tr style=\"text-align: right;\">\n",
       "      <th></th>\n",
       "      <th>id</th>\n",
       "      <th>points</th>\n",
       "      <th>Following</th>\n",
       "      <th>Followers</th>\n",
       "      <th>Posts</th>\n",
       "      <th>Comments</th>\n",
       "      <th>Likes Received</th>\n",
       "      <th>snapshot</th>\n",
       "    </tr>\n",
       "  </thead>\n",
       "  <tbody>\n",
       "    <tr>\n",
       "      <th>0</th>\n",
       "      <td>0054T000001NuFj</td>\n",
       "      <td>5658</td>\n",
       "      <td>0</td>\n",
       "      <td>5</td>\n",
       "      <td>15</td>\n",
       "      <td>321</td>\n",
       "      <td>51</td>\n",
       "      <td>2025-01-19</td>\n",
       "    </tr>\n",
       "    <tr>\n",
       "      <th>1</th>\n",
       "      <td>0054T000001Namx</td>\n",
       "      <td>12977</td>\n",
       "      <td>0</td>\n",
       "      <td>1</td>\n",
       "      <td>6</td>\n",
       "      <td>1542</td>\n",
       "      <td>9</td>\n",
       "      <td>2025-01-19</td>\n",
       "    </tr>\n",
       "    <tr>\n",
       "      <th>2</th>\n",
       "      <td>0054T000001NiRN</td>\n",
       "      <td>80948</td>\n",
       "      <td>8</td>\n",
       "      <td>45</td>\n",
       "      <td>30</td>\n",
       "      <td>4977</td>\n",
       "      <td>1137</td>\n",
       "      <td>2025-01-19</td>\n",
       "    </tr>\n",
       "  </tbody>\n",
       "</table>\n",
       "</div>"
      ],
      "text/plain": [
       "                id  points Following Followers Posts Comments Likes Received  \\\n",
       "0  0054T000001NuFj    5658         0         5    15      321             51   \n",
       "1  0054T000001Namx   12977         0         1     6     1542              9   \n",
       "2  0054T000001NiRN   80948         8        45    30     4977           1137   \n",
       "\n",
       "     snapshot  \n",
       "0  2025-01-19  \n",
       "1  2025-01-19  \n",
       "2  2025-01-19  "
      ]
     },
     "execution_count": 11,
     "metadata": {},
     "output_type": "execute_result"
    }
   ],
   "source": [
    "df.head()"
   ]
  },
  {
   "cell_type": "code",
   "execution_count": 12,
   "metadata": {},
   "outputs": [
    {
     "name": "stdout",
     "output_type": "stream",
     "text": [
      "Getting existing snapshots from Google Sheets\n"
     ]
    }
   ],
   "source": [
    "print(\"Getting existing snapshots from Google Sheets\")\n",
    "snapshot_sheet = fs.get_gsheet('https://docs.google.com/spreadsheets/d/1H86_fj8z8yBNKOZOIBGrxc8-hTc03XZxNxYBzTneo7w/edit',\n",
    "            0)\n",
    "snapshot_data = pd.DataFrame(snapshot_sheet.get_all_records())\n",
    "# Ensure the `snapshot` column in the Google Sheets data is also in `date` format\n",
    "snapshot_data[\"snapshot\"] = pd.to_datetime(snapshot_data[\"snapshot\"]).dt.date"
   ]
  },
  {
   "cell_type": "code",
   "execution_count": 13,
   "metadata": {},
   "outputs": [
    {
     "data": {
      "text/html": [
       "<div>\n",
       "<style scoped>\n",
       "    .dataframe tbody tr th:only-of-type {\n",
       "        vertical-align: middle;\n",
       "    }\n",
       "\n",
       "    .dataframe tbody tr th {\n",
       "        vertical-align: top;\n",
       "    }\n",
       "\n",
       "    .dataframe thead th {\n",
       "        text-align: right;\n",
       "    }\n",
       "</style>\n",
       "<table border=\"1\" class=\"dataframe\">\n",
       "  <thead>\n",
       "    <tr style=\"text-align: right;\">\n",
       "      <th></th>\n",
       "      <th>id</th>\n",
       "      <th>snapshot</th>\n",
       "      <th>points</th>\n",
       "      <th>Following</th>\n",
       "      <th>Followers</th>\n",
       "      <th>Posts</th>\n",
       "      <th>Comments</th>\n",
       "      <th>Likes Received</th>\n",
       "    </tr>\n",
       "  </thead>\n",
       "  <tbody>\n",
       "    <tr>\n",
       "      <th>0</th>\n",
       "      <td>0054T000001NiRN</td>\n",
       "      <td>2023-04-21</td>\n",
       "      <td>11142</td>\n",
       "      <td>2</td>\n",
       "      <td>9</td>\n",
       "      <td>21</td>\n",
       "      <td>622</td>\n",
       "      <td>111</td>\n",
       "    </tr>\n",
       "    <tr>\n",
       "      <th>1</th>\n",
       "      <td>0054T000001NiRN</td>\n",
       "      <td>2023-04-22</td>\n",
       "      <td>11162</td>\n",
       "      <td>2</td>\n",
       "      <td>9</td>\n",
       "      <td>21</td>\n",
       "      <td>624</td>\n",
       "      <td>112</td>\n",
       "    </tr>\n",
       "    <tr>\n",
       "      <th>2</th>\n",
       "      <td>0054T000001NiRN</td>\n",
       "      <td>2023-04-23</td>\n",
       "      <td>11234</td>\n",
       "      <td>2</td>\n",
       "      <td>9</td>\n",
       "      <td>21</td>\n",
       "      <td>631</td>\n",
       "      <td>113</td>\n",
       "    </tr>\n",
       "    <tr>\n",
       "      <th>3</th>\n",
       "      <td>0054T000001NiRN</td>\n",
       "      <td>2023-04-24</td>\n",
       "      <td>11279</td>\n",
       "      <td>2</td>\n",
       "      <td>9</td>\n",
       "      <td>21</td>\n",
       "      <td>634</td>\n",
       "      <td>116</td>\n",
       "    </tr>\n",
       "    <tr>\n",
       "      <th>4</th>\n",
       "      <td>0054T000001NiRN</td>\n",
       "      <td>2023-04-25</td>\n",
       "      <td>11315</td>\n",
       "      <td>2</td>\n",
       "      <td>9</td>\n",
       "      <td>21</td>\n",
       "      <td>635</td>\n",
       "      <td>119</td>\n",
       "    </tr>\n",
       "  </tbody>\n",
       "</table>\n",
       "</div>"
      ],
      "text/plain": [
       "                id    snapshot points Following Followers Posts Comments  \\\n",
       "0  0054T000001NiRN  2023-04-21  11142         2         9    21      622   \n",
       "1  0054T000001NiRN  2023-04-22  11162         2         9    21      624   \n",
       "2  0054T000001NiRN  2023-04-23  11234         2         9    21      631   \n",
       "3  0054T000001NiRN  2023-04-24  11279         2         9    21      634   \n",
       "4  0054T000001NiRN  2023-04-25  11315         2         9    21      635   \n",
       "\n",
       "  Likes Received  \n",
       "0            111  \n",
       "1            112  \n",
       "2            113  \n",
       "3            116  \n",
       "4            119  "
      ]
     },
     "execution_count": 13,
     "metadata": {},
     "output_type": "execute_result"
    }
   ],
   "source": [
    "snapshot_data.head()"
   ]
  },
  {
   "cell_type": "code",
   "execution_count": 14,
   "metadata": {},
   "outputs": [
    {
     "name": "stdout",
     "output_type": "stream",
     "text": [
      "Concatenating new snapshot with existing data\n"
     ]
    }
   ],
   "source": [
    "import pandas as pd\n",
    "print(\"Concatenating new snapshot with existing data\")\n",
    "df_new = pd.concat([df,snapshot_data])\n",
    "df_new = df_new.sort_values(by=[\"id\",\"snapshot\",\"points\"]).drop_duplicates(subset=[\"id\",\"snapshot\"],keep=\"last\")\n",
    "# print(df_new)\n",
    "for col in [\"Following\",\"Followers\",\"Posts\",\"Comments\",\"Likes Received\"]:\n",
    "    df_new[col] = pd.to_numeric(df_new[col], errors='coerce').fillna(0).astype(int)\n",
    "df_new = df_new.sort_values(by=[\"id\",\"snapshot\"]).set_index([\"id\",\"snapshot\"])"
   ]
  },
  {
   "cell_type": "code",
   "execution_count": 15,
   "metadata": {},
   "outputs": [
    {
     "name": "stdout",
     "output_type": "stream",
     "text": [
      "Concatenating new snapshot with existing data\n"
     ]
    }
   ],
   "source": [
    "print(\"Concatenating new snapshot with existing data\")\n",
    "df_new = pd.concat([df,snapshot_data])\n",
    "df_new[\"snapshot\"] = pd.to_datetime(df_new[\"snapshot\"]).dt.date\n",
    "df_new = df_new.sort_values(by=[\"id\",\"snapshot\",\"points\"]).drop_duplicates(subset=[\"id\",\"snapshot\"],keep=\"last\")\n",
    "# print(df_new)\n",
    "for col in [\"Following\",\"Followers\",\"Posts\",\"Comments\",\"Likes Received\"]:\n",
    "    df_new[col] = pd.to_numeric(df_new[col], errors='coerce').fillna(0).astype(int)\n",
    "df_new = df_new.sort_values(by=[\"id\",\"snapshot\"]).set_index([\"id\",\"snapshot\"])"
   ]
  },
  {
   "cell_type": "code",
   "execution_count": 16,
   "metadata": {},
   "outputs": [
    {
     "data": {
      "text/html": [
       "<div>\n",
       "<style scoped>\n",
       "    .dataframe tbody tr th:only-of-type {\n",
       "        vertical-align: middle;\n",
       "    }\n",
       "\n",
       "    .dataframe tbody tr th {\n",
       "        vertical-align: top;\n",
       "    }\n",
       "\n",
       "    .dataframe thead th {\n",
       "        text-align: right;\n",
       "    }\n",
       "</style>\n",
       "<table border=\"1\" class=\"dataframe\">\n",
       "  <thead>\n",
       "    <tr style=\"text-align: right;\">\n",
       "      <th></th>\n",
       "      <th></th>\n",
       "      <th>points</th>\n",
       "      <th>Following</th>\n",
       "      <th>Followers</th>\n",
       "      <th>Posts</th>\n",
       "      <th>Comments</th>\n",
       "      <th>Likes Received</th>\n",
       "    </tr>\n",
       "    <tr>\n",
       "      <th>id</th>\n",
       "      <th>snapshot</th>\n",
       "      <th></th>\n",
       "      <th></th>\n",
       "      <th></th>\n",
       "      <th></th>\n",
       "      <th></th>\n",
       "      <th></th>\n",
       "    </tr>\n",
       "  </thead>\n",
       "  <tbody>\n",
       "    <tr>\n",
       "      <th rowspan=\"5\" valign=\"top\">0054T000001Namx</th>\n",
       "      <th>2023-04-21</th>\n",
       "      <td>12976</td>\n",
       "      <td>0</td>\n",
       "      <td>1</td>\n",
       "      <td>6</td>\n",
       "      <td>1542</td>\n",
       "      <td>6</td>\n",
       "    </tr>\n",
       "    <tr>\n",
       "      <th>2023-04-22</th>\n",
       "      <td>12976</td>\n",
       "      <td>0</td>\n",
       "      <td>1</td>\n",
       "      <td>6</td>\n",
       "      <td>1542</td>\n",
       "      <td>6</td>\n",
       "    </tr>\n",
       "    <tr>\n",
       "      <th>2023-04-23</th>\n",
       "      <td>12976</td>\n",
       "      <td>0</td>\n",
       "      <td>1</td>\n",
       "      <td>6</td>\n",
       "      <td>1542</td>\n",
       "      <td>6</td>\n",
       "    </tr>\n",
       "    <tr>\n",
       "      <th>2023-04-24</th>\n",
       "      <td>12976</td>\n",
       "      <td>0</td>\n",
       "      <td>1</td>\n",
       "      <td>6</td>\n",
       "      <td>1542</td>\n",
       "      <td>6</td>\n",
       "    </tr>\n",
       "    <tr>\n",
       "      <th>2023-04-25</th>\n",
       "      <td>12976</td>\n",
       "      <td>0</td>\n",
       "      <td>1</td>\n",
       "      <td>6</td>\n",
       "      <td>1542</td>\n",
       "      <td>6</td>\n",
       "    </tr>\n",
       "  </tbody>\n",
       "</table>\n",
       "</div>"
      ],
      "text/plain": [
       "                           points  Following  Followers  Posts  Comments  \\\n",
       "id              snapshot                                                   \n",
       "0054T000001Namx 2023-04-21  12976          0          1      6      1542   \n",
       "                2023-04-22  12976          0          1      6      1542   \n",
       "                2023-04-23  12976          0          1      6      1542   \n",
       "                2023-04-24  12976          0          1      6      1542   \n",
       "                2023-04-25  12976          0          1      6      1542   \n",
       "\n",
       "                            Likes Received  \n",
       "id              snapshot                    \n",
       "0054T000001Namx 2023-04-21               6  \n",
       "                2023-04-22               6  \n",
       "                2023-04-23               6  \n",
       "                2023-04-24               6  \n",
       "                2023-04-25               6  "
      ]
     },
     "execution_count": 16,
     "metadata": {},
     "output_type": "execute_result"
    }
   ],
   "source": [
    "df_new.head()"
   ]
  },
  {
   "cell_type": "code",
   "execution_count": 17,
   "metadata": {},
   "outputs": [
    {
     "name": "stdout",
     "output_type": "stream",
     "text": [
      "Creating multi-index in new data\n"
     ]
    }
   ],
   "source": [
    "print(\"Creating multi-index in new data\")\n",
    "start_date = datetime.datetime(year=2023, month=4, day=21)\n",
    "all_dates = pd.date_range(start_date, datetime.datetime.now().date(), freq='D')\n",
    "new_index = pd.MultiIndex.from_product([df_new.index.levels[0],all_dates],names=[\"id\",\"snapshot\"])\n",
    "new_df = pd.DataFrame(index=new_index)\n",
    "\n",
    "df_new = new_df.merge(df_new,left_index=True,right_index=True,how='left').reset_index()"
   ]
  },
  {
   "cell_type": "code",
   "execution_count": 18,
   "metadata": {},
   "outputs": [
    {
     "data": {
      "text/html": [
       "<div>\n",
       "<style scoped>\n",
       "    .dataframe tbody tr th:only-of-type {\n",
       "        vertical-align: middle;\n",
       "    }\n",
       "\n",
       "    .dataframe tbody tr th {\n",
       "        vertical-align: top;\n",
       "    }\n",
       "\n",
       "    .dataframe thead th {\n",
       "        text-align: right;\n",
       "    }\n",
       "</style>\n",
       "<table border=\"1\" class=\"dataframe\">\n",
       "  <thead>\n",
       "    <tr style=\"text-align: right;\">\n",
       "      <th></th>\n",
       "      <th>id</th>\n",
       "      <th>snapshot</th>\n",
       "      <th>points</th>\n",
       "      <th>Following</th>\n",
       "      <th>Followers</th>\n",
       "      <th>Posts</th>\n",
       "      <th>Comments</th>\n",
       "      <th>Likes Received</th>\n",
       "    </tr>\n",
       "  </thead>\n",
       "  <tbody>\n",
       "    <tr>\n",
       "      <th>0</th>\n",
       "      <td>0054T000001Namx</td>\n",
       "      <td>2023-04-21</td>\n",
       "      <td>12976</td>\n",
       "      <td>0</td>\n",
       "      <td>1</td>\n",
       "      <td>6</td>\n",
       "      <td>1542</td>\n",
       "      <td>6</td>\n",
       "    </tr>\n",
       "    <tr>\n",
       "      <th>1</th>\n",
       "      <td>0054T000001Namx</td>\n",
       "      <td>2023-04-22</td>\n",
       "      <td>12976</td>\n",
       "      <td>0</td>\n",
       "      <td>1</td>\n",
       "      <td>6</td>\n",
       "      <td>1542</td>\n",
       "      <td>6</td>\n",
       "    </tr>\n",
       "    <tr>\n",
       "      <th>2</th>\n",
       "      <td>0054T000001Namx</td>\n",
       "      <td>2023-04-23</td>\n",
       "      <td>12976</td>\n",
       "      <td>0</td>\n",
       "      <td>1</td>\n",
       "      <td>6</td>\n",
       "      <td>1542</td>\n",
       "      <td>6</td>\n",
       "    </tr>\n",
       "    <tr>\n",
       "      <th>3</th>\n",
       "      <td>0054T000001Namx</td>\n",
       "      <td>2023-04-24</td>\n",
       "      <td>12976</td>\n",
       "      <td>0</td>\n",
       "      <td>1</td>\n",
       "      <td>6</td>\n",
       "      <td>1542</td>\n",
       "      <td>6</td>\n",
       "    </tr>\n",
       "    <tr>\n",
       "      <th>4</th>\n",
       "      <td>0054T000001Namx</td>\n",
       "      <td>2023-04-25</td>\n",
       "      <td>12976</td>\n",
       "      <td>0</td>\n",
       "      <td>1</td>\n",
       "      <td>6</td>\n",
       "      <td>1542</td>\n",
       "      <td>6</td>\n",
       "    </tr>\n",
       "  </tbody>\n",
       "</table>\n",
       "</div>"
      ],
      "text/plain": [
       "                id   snapshot points  Following  Followers  Posts  Comments  \\\n",
       "0  0054T000001Namx 2023-04-21  12976          0          1      6      1542   \n",
       "1  0054T000001Namx 2023-04-22  12976          0          1      6      1542   \n",
       "2  0054T000001Namx 2023-04-23  12976          0          1      6      1542   \n",
       "3  0054T000001Namx 2023-04-24  12976          0          1      6      1542   \n",
       "4  0054T000001Namx 2023-04-25  12976          0          1      6      1542   \n",
       "\n",
       "   Likes Received  \n",
       "0               6  \n",
       "1               6  \n",
       "2               6  \n",
       "3               6  \n",
       "4               6  "
      ]
     },
     "execution_count": 18,
     "metadata": {},
     "output_type": "execute_result"
    }
   ],
   "source": [
    "df_new.head()"
   ]
  },
  {
   "cell_type": "code",
   "execution_count": 19,
   "metadata": {},
   "outputs": [
    {
     "name": "stdout",
     "output_type": "stream",
     "text": [
      "Interpolating values for any missing dates\n"
     ]
    },
    {
     "name": "stderr",
     "output_type": "stream",
     "text": [
      "/tmp/ipykernel_117143/4061733004.py:9: FutureWarning: Series.interpolate with object dtype is deprecated and will raise in a future version. Call obj.infer_objects(copy=False) before interpolating instead.\n",
      "  dft.loc[:, col] = dft[col].interpolate(method=\"linear\", limit_area=\"inside\")\n"
     ]
    }
   ],
   "source": [
    "print(\"Interpolating values for any missing dates\")\n",
    "\n",
    "df_list = []\n",
    "\n",
    "for idx in df_new.id.unique():\n",
    "    dft = df_new[df_new[\"id\"] == idx].copy()  # Create a copy to avoid SettingWithCopyWarning\n",
    "    for col in dft.columns:\n",
    "        if col in [\"points\", \"Following\", \"Followers\", \"Comments\", \"Likes Received\", \"Posts\"]:\n",
    "            dft.loc[:, col] = dft[col].interpolate(method=\"linear\", limit_area=\"inside\")\n",
    "        else:\n",
    "            dft.loc[:, col] = dft[col].bfill()  # Use bfill directly instead of fillna\n",
    "    df_list.append(dft)\n",
    "\n",
    "df_new = pd.concat(df_list)"
   ]
  },
  {
   "cell_type": "code",
   "execution_count": 20,
   "metadata": {},
   "outputs": [
    {
     "name": "stdout",
     "output_type": "stream",
     "text": [
      "Final tidying up\n",
      "Writing new DataFrame back to Google Sheets\n"
     ]
    }
   ],
   "source": [
    "        print(\"Final tidying up\")\n",
    "        # Alter Johan De Groot's ID\n",
    "        df_new[\"id\"] = df_new[\"id\"].replace(\"0054T000001NkSe\",\"XX54T000001NkSe\")\n",
    "        df_new = df_new[[x for x in df_new.columns if \"Unnamed\" not in x]]\n",
    "\n",
    "        print(\"Writing new DataFrame back to Google Sheets\")\n",
    "        snapshot_sheet.clear()\n",
    "        set_with_dataframe(snapshot_sheet,df_new)\n",
    "\n",
    "        fs.chrome_driver.close()"
   ]
  },
  {
   "cell_type": "code",
   "execution_count": null,
   "metadata": {},
   "outputs": [],
   "source": []
  }
 ],
 "metadata": {
  "kernelspec": {
   "display_name": "tableau",
   "language": "python",
   "name": "tableau"
  },
  "language_info": {
   "codemirror_mode": {
    "name": "ipython",
    "version": 3
   },
   "file_extension": ".py",
   "mimetype": "text/x-python",
   "name": "python",
   "nbconvert_exporter": "python",
   "pygments_lexer": "ipython3",
   "version": "3.12.3"
  }
 },
 "nbformat": 4,
 "nbformat_minor": 2
}
